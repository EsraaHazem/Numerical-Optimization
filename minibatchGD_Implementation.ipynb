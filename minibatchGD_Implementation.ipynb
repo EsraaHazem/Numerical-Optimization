{
 "cells": [
  {
   "cell_type": "code",
   "execution_count": 189,
   "metadata": {},
   "outputs": [
    {
     "name": "stdout",
     "output_type": "stream",
     "text": [
      "[[  1.   1.  73.  80.  75.]\n",
      " [  1.   1.  93.  88.  93.]\n",
      " [  1.   1.  89.  91.  90.]\n",
      " [  1.   1.  96.  98. 100.]\n",
      " [  1.   1.  73.  66.  70.]\n",
      " [  1.   1.  53.  46.  55.]\n",
      " [  1.   1.  69.  74.  77.]\n",
      " [  1.   1.  47.  56.  60.]\n",
      " [  1.   1.  87.  79.  90.]\n",
      " [  1.   1.  79.  70.  88.]\n",
      " [  1.   0.  69.  70.  73.]\n",
      " [  1.   0.  70.  65.  74.]\n",
      " [  1.   0.  93.  95.  91.]\n",
      " [  1.   0.  79.  80.  73.]\n",
      " [  1.   0.  70.  73.  78.]\n",
      " [  1.   0.  93.  89.  96.]\n",
      " [  1.   0.  78.  75.  68.]\n",
      " [  1.   0.  81.  90.  93.]\n",
      " [  1.   0.  88.  92.  86.]\n",
      " [  1.   0.  78.  83.  77.]\n",
      " [  1.   0.  82.  86.  90.]\n",
      " [  1.   0.  86.  82.  89.]\n",
      " [  1.   0.  78.  83.  85.]\n",
      " [  1.   0.  76.  83.  71.]\n",
      " [  1.   0.  96.  93.  95.]]\n",
      "[[152.]\n",
      " [185.]\n",
      " [180.]\n",
      " [196.]\n",
      " [142.]\n",
      " [101.]\n",
      " [149.]\n",
      " [115.]\n",
      " [175.]\n",
      " [164.]\n",
      " [141.]\n",
      " [141.]\n",
      " [184.]\n",
      " [152.]\n",
      " [148.]\n",
      " [192.]\n",
      " [147.]\n",
      " [183.]\n",
      " [177.]\n",
      " [159.]\n",
      " [177.]\n",
      " [175.]\n",
      " [175.]\n",
      " [149.]\n",
      " [192.]]\n"
     ]
    }
   ],
   "source": [
    "import numpy as np\n",
    "import matplotlib.pyplot as plt\n",
    "from sklearn.metrics import r2_score\n",
    "%matplotlib inline\n",
    "data=np.genfromtxt(\"MultipleLR.csv\",delimiter=\",\")\n",
    "x1=data[:,0]\n",
    "x0=np.ones((len(data[:,0]),1))\n",
    "x3=np.zeros((len(data[:,0]),1))\n",
    "for i in range(10):\n",
    "    x3[i]=1\n",
    "y=data[:,3]\n",
    "y=y.reshape(-1,1)\n",
    "x = np.column_stack((x0,x3,data[:,0:3]))\n",
    "print(x)\n",
    "print(y)\n"
   ]
  },
  {
   "cell_type": "code",
   "execution_count": 190,
   "metadata": {},
   "outputs": [],
   "source": [
    "#### mini batch GD #####\n",
    "def MBGD(x_1,y,theta,alpha,batch_size,max_iterations):\n",
    "    length=len(y)\n",
    "    if batch_size>length:\n",
    "        batch_size=length\n",
    "    rest=0\n",
    "    h_theta = x @ theta\n",
    "    loss_array=[]\n",
    "    iterations=0\n",
    "    th=[]\n",
    "    epochs=[]\n",
    "    theta0=[]\n",
    "    theta1=[]\n",
    "    for i in range(max_iterations):\n",
    "        if rest>=batch_size:\n",
    "            u=v\n",
    "            v+=batch_size\n",
    "            m=v-u\n",
    "            rest=length-v\n",
    "        elif rest==0:\n",
    "            u=0\n",
    "            v=batch_size\n",
    "            m=v-u\n",
    "            rest=length-v\n",
    "        elif rest<batch_size:\n",
    "            u=v\n",
    "            v+=rest\n",
    "            m=rest\n",
    "            rest=0\n",
    "        h_theta_new=h_theta[u:v,:]\n",
    "        y_new=y[u:v,:]\n",
    "        x_new=x[u:v,:]\n",
    "        lossfunc=(1/(2*m))*(np.sum(( h_theta_new - y_new)**2))\n",
    "        loss_array.append(lossfunc)\n",
    "        epochs.append(iterations)\n",
    "        th.append(theta)\n",
    "        theta0.append(float((theta[0])))\n",
    "        theta1.append(float((theta[1])))\n",
    "        z=h_theta_new-y_new\n",
    "        gradient_theta=(1/m)*(x_new.T @ z)\n",
    "        theta-=alpha*gradient_theta\n",
    "        h_theta = x @ theta\n",
    "        if iterations>0:\n",
    "            if np.linalg.norm([gradient_theta])<0.001:\n",
    "                break\n",
    "            elif np.absolute(loss_array[iterations]-loss_array[iterations-1])<0.001:\n",
    "                break\n",
    "            elif np.absolute(np.linalg.norm([theta0[iterations],theta1[iterations]])- np.linalg.norm([theta0[iterations-1],theta1[iterations-1]]))<0.001:\n",
    "                break\n",
    "        iterations+=1\n",
    "                \n",
    "\n",
    "        \n",
    "    return h_theta,theta,loss_array,epochs,theta0,iterations"
   ]
  },
  {
   "cell_type": "code",
   "execution_count": 191,
   "metadata": {},
   "outputs": [
    {
     "name": "stdout",
     "output_type": "stream",
     "text": [
      "accuracy= 97.19411133729676 %\n",
      "theta [[0.00760237]\n",
      " [0.00799053]\n",
      " [0.66556111]\n",
      " [0.66603733]\n",
      " [0.67041515]]\n",
      "iterations 2\n"
     ]
    }
   ],
   "source": [
    "theta=np.zeros((len(x[0,:]),1))\n",
    "alpha=0.00005\n",
    "max_iterations=1000\n",
    "batch_size=5\n",
    "h,theta,loss_array,epochs,theta0,iterations=MBGD(x,y,theta,alpha,batch_size,max_iterations)\n",
    "print(\"accuracy=\",r2_score(y,h)*100,\"%\")\n",
    "print(\"theta\",theta)\n",
    "print(\"iterations\",iterations)"
   ]
  },
  {
   "cell_type": "code",
   "execution_count": 192,
   "metadata": {},
   "outputs": [
    {
     "data": {
      "image/png": "[encoded data removed]",
      "text/plain": [
       "<Figure size 432x288 with 1 Axes>"
      ]
     },
     "metadata": {
      "needs_background": "light"
     },
     "output_type": "display_data"
    }
   ],
   "source": [
    "plt.plot(epochs,loss_array)\n",
    "plt.show()"
   ]
  },
  {
   "cell_type": "code",
   "execution_count": 193,
   "metadata": {},
   "outputs": [
    {
     "data": {
      "image/png": "[encoded data removed]",
      "text/plain": [
       "<Figure size 432x288 with 1 Axes>"
      ]
     },
     "metadata": {
      "needs_background": "light"
     },
     "output_type": "display_data"
    }
   ],
   "source": [
    "plt.plot(theta0,loss_array)\n",
    "plt.show()"
   ]
  },
  {
   "cell_type": "code",
   "execution_count": 194,
   "metadata": {},
   "outputs": [],
   "source": [
    "### momentum mini batch \n",
    "def Momentum_MGD(x,y,theta,alpha,gama,batch_size,max_iterations):\n",
    "    length=len(y)\n",
    "    if batch_size>length:\n",
    "        batch_size=length\n",
    "    rest=0\n",
    "    v_momentum=np.zeros((len(x[0,:]),1))\n",
    "    h_theta = x @ theta\n",
    "    loss_array=[]\n",
    "    iterations=0\n",
    "    th=[]\n",
    "    epochs=[]\n",
    "    theta0=[]\n",
    "    theta1=[]\n",
    "    for i in range(max_iterations):\n",
    "        if rest>=batch_size:\n",
    "            u=v\n",
    "            v+=batch_size\n",
    "            m=v-u\n",
    "            rest=length-v\n",
    "        elif rest==0:\n",
    "            u=0\n",
    "            v=batch_size\n",
    "            m=v-u\n",
    "            rest=length-v\n",
    "        elif rest<batch_size:\n",
    "            u=v\n",
    "            v+=rest\n",
    "            m=rest\n",
    "            rest=0\n",
    "        h_theta_new=h_theta[u:v,:]\n",
    "        y_new=y[u:v,:]\n",
    "        x_new=x[u:v,:]\n",
    "        lossfunc=(1/(2*m))*(np.sum(( h_theta_new - y_new)**2))\n",
    "        loss_array.append(lossfunc)\n",
    "        epochs.append(iterations)\n",
    "        th.append(theta)\n",
    "        theta0.append(float((theta[0])))\n",
    "        theta1.append(float((theta[1])))\n",
    "        z=h_theta_new-y_new\n",
    "        gradient_theta=(1/m)*(x_new.T @ z)\n",
    "        v_momentum=gama*v_momentum+alpha*gradient_theta\n",
    "        theta-=v_momentum\n",
    "        h_theta = x @ theta\n",
    "        if iterations>0:\n",
    "            if np.linalg.norm([gradient_theta])<0.00001:\n",
    "                break\n",
    "            elif np.absolute(loss_array[iterations]-loss_array[iterations-1])<0.00001:\n",
    "                break\n",
    "            elif np.absolute(np.linalg.norm([theta0[iterations],theta1[iterations]])- np.linalg.norm([theta0[iterations-1],theta1[iterations-1]]))<0.00001:\n",
    "                break\n",
    "        iterations+=1   \n",
    "    return h_theta,theta,loss_array,epochs,theta0,iterations\n",
    "    "
   ]
  },
  {
   "cell_type": "code",
   "execution_count": 195,
   "metadata": {},
   "outputs": [
    {
     "name": "stdout",
     "output_type": "stream",
     "text": [
      "accuracy= 97.39194082393313 %\n",
      "theta [[0.00846844]\n",
      " [0.01508419]\n",
      " [0.63571757]\n",
      " [0.60988832]\n",
      " [0.75164397]]\n",
      "iterations 82\n"
     ]
    }
   ],
   "source": [
    "theta=np.zeros((len(x[0,:]),1))\n",
    "alpha=0.00001\n",
    "max_iterations=500\n",
    "gama=0.9\n",
    "batch_size=5\n",
    "h,theta,loss_array,epochs,theta0,iterations=Momentum_MGD(x,y,theta,alpha,gama,batch_size,max_iterations)\n",
    "print(\"accuracy=\",r2_score(y,h)*100,\"%\")\n",
    "print(\"theta\",theta)\n",
    "print(\"iterations\",iterations)"
   ]
  },
  {
   "cell_type": "code",
   "execution_count": 196,
   "metadata": {},
   "outputs": [
    {
     "data": {
      "image/png": "[encoded data removed]",
      "text/plain": [
       "<Figure size 432x288 with 1 Axes>"
      ]
     },
     "metadata": {
      "needs_background": "light"
     },
     "output_type": "display_data"
    }
   ],
   "source": [
    "plt.plot(epochs,loss_array)\n",
    "plt.show()"
   ]
  },
  {
   "cell_type": "code",
   "execution_count": 197,
   "metadata": {},
   "outputs": [
    {
     "data": {
      "image/png": "[encoded data removed]",
      "text/plain": [
       "<Figure size 432x288 with 1 Axes>"
      ]
     },
     "metadata": {
      "needs_background": "light"
     },
     "output_type": "display_data"
    }
   ],
   "source": [
    "plt.plot(theta0,loss_array)\n",
    "plt.show()"
   ]
  },
  {
   "cell_type": "code",
   "execution_count": 198,
   "metadata": {},
   "outputs": [],
   "source": [
    "### Nesterov mini batch \n",
    "def Nesterov_MGD(x,y,theta,alpha,gama,batch_size,max_iterations):\n",
    "    length=len(y)\n",
    "    if batch_size>length:\n",
    "        batch_size=length\n",
    "    rest=0\n",
    "    v_momentum=np.zeros((len(x[0,:]),1))\n",
    "    h_theta = x @ theta\n",
    "    loss_array=[]\n",
    "    iterations=0\n",
    "    th=[]\n",
    "    epochs=[]\n",
    "    theta0=[]\n",
    "    theta1=[]\n",
    "    for i in range(max_iterations):\n",
    "        if rest>=batch_size:\n",
    "            u=v\n",
    "            v+=batch_size\n",
    "            m=v-u\n",
    "            rest=length-v\n",
    "        elif rest==0:\n",
    "            u=0\n",
    "            v=batch_size\n",
    "            m=v-u\n",
    "            rest=length-v\n",
    "        elif rest<batch_size:\n",
    "            u=v\n",
    "            v+=rest\n",
    "            m=rest\n",
    "            rest=0\n",
    "        h_theta_new=h_theta[u:v,:]\n",
    "        y_new=y[u:v,:]\n",
    "        x_new=x[u:v,:]\n",
    "        lossfunc=(1/(2*m))*(np.sum(( h_theta_new - y_new)**2))\n",
    "        loss_array.append(lossfunc)\n",
    "        epochs.append(iterations)\n",
    "        th.append(theta)\n",
    "        theta0.append(float((theta[0])))\n",
    "        theta1.append(float((theta[1])))\n",
    "        theta_temp=theta - gama*v_momentum\n",
    "        h_theta=x @ theta_temp\n",
    "        h_theta_new=h_theta[u:v,:]\n",
    "        z=h_theta_new- y_new\n",
    "        gradient_theta_temp=(1/m)*(x_new.T @ z)\n",
    "        theta=theta_temp-alpha*gradient_theta_temp\n",
    "        v_momentum=gama*v_momentum+alpha*gradient_theta_temp\n",
    "        h_theta= x @ theta\n",
    "        if iterations>0:\n",
    "            if np.linalg.norm([gradient_theta_temp])<0.00001:\n",
    "                break\n",
    "            elif np.absolute(loss_array[iterations]-loss_array[iterations-1])<0.00001:\n",
    "                break\n",
    "            elif np.absolute(np.linalg.norm([theta0[iterations],theta1[iterations]])- np.linalg.norm([theta0[iterations-1],theta1[iterations-1]]))<0.00001:\n",
    "                break\n",
    "        iterations+=1   \n",
    "    return h_theta,theta,loss_array,epochs,theta0,iterations\n",
    "    "
   ]
  },
  {
   "cell_type": "code",
   "execution_count": 199,
   "metadata": {},
   "outputs": [
    {
     "name": "stdout",
     "output_type": "stream",
     "text": [
      "accuracy= 98.01795802225027 %\n",
      "theta [[0.00852212]\n",
      " [0.01595031]\n",
      " [0.66491549]\n",
      " [0.63823572]\n",
      " [0.72645815]]\n",
      "iterations 36\n"
     ]
    }
   ],
   "source": [
    "theta=np.zeros((len(x[0,:]),1))\n",
    "alpha=0.00001\n",
    "max_iterations=500\n",
    "gama=0.9\n",
    "batch_size=5\n",
    "h,theta,loss_array,epochs,theta0,iterations=Nesterov_MGD(x,y,theta,alpha,gama,batch_size,max_iterations)\n",
    "print(\"accuracy=\",r2_score(y,h)*100,\"%\")\n",
    "print(\"theta\",theta)\n",
    "print(\"iterations\",iterations)"
   ]
  },
  {
   "cell_type": "code",
   "execution_count": 200,
   "metadata": {},
   "outputs": [
    {
     "data": {
      "image/png": "[encoded data removed]",
      "text/plain": [
       "<Figure size 432x288 with 1 Axes>"
      ]
     },
     "metadata": {
      "needs_background": "light"
     },
     "output_type": "display_data"
    }
   ],
   "source": [
    "plt.plot(epochs,loss_array)\n",
    "plt.show()"
   ]
  },
  {
   "cell_type": "code",
   "execution_count": 201,
   "metadata": {},
   "outputs": [
    {
     "data": {
      "image/png": "[encoded data removed]",
      "text/plain": [
       "<Figure size 432x288 with 1 Axes>"
      ]
     },
     "metadata": {
      "needs_background": "light"
     },
     "output_type": "display_data"
    }
   ],
   "source": [
    "plt.plot(theta0,loss_array)\n",
    "plt.show()"
   ]
  },
  {
   "cell_type": "code",
   "execution_count": 202,
   "metadata": {},
   "outputs": [],
   "source": [
    "### adagrad mini batch \n",
    "def adagrad_MGD(x,y,theta,alpha,epthlon,batch_size,max_iterations):\n",
    "    length=len(y)\n",
    "    if batch_size>length:\n",
    "        batch_size=length\n",
    "    rest=0\n",
    "    v_adagrad=np.zeros((len(x[0,:]),1))\n",
    "    h_theta = x @ theta\n",
    "    loss_array=[]\n",
    "    iterations=0\n",
    "    th=[]\n",
    "    epochs=[]\n",
    "    theta0=[]\n",
    "    theta1=[]\n",
    "    for i in range(max_iterations):\n",
    "        if rest>=batch_size:\n",
    "            u=v\n",
    "            v+=batch_size\n",
    "            m=v-u\n",
    "            rest=length-v\n",
    "        elif rest==0:\n",
    "            u=0\n",
    "            v=batch_size\n",
    "            m=v-u\n",
    "            rest=length-v\n",
    "        elif rest<batch_size:\n",
    "            u=v\n",
    "            v+=rest\n",
    "            m=rest\n",
    "            rest=0\n",
    "        h_theta_new=h_theta[u:v,:]\n",
    "        y_new=y[u:v,:]\n",
    "        x_new=x[u:v,:]\n",
    "        lossfunc=(1/(2*m))*(np.sum(( h_theta_new - y_new)**2))\n",
    "        loss_array.append(lossfunc)\n",
    "        epochs.append(iterations)\n",
    "        th.append(theta)\n",
    "        theta0.append(float((theta[0])))\n",
    "        theta1.append(float((theta[1])))\n",
    "        z=h_theta_new-y_new\n",
    "        gradient_theta=(1/m)*(x_new.T @ z)\n",
    "        z=h_theta-y\n",
    "        gradient_theta=(1/m)*(x.T @ z)\n",
    "        v_adagrad=v_adagrad+gradient_theta**2\n",
    "        theta-=(alpha/(np.sqrt(v_adagrad)+epthlon))*gradient_theta\n",
    "        h_theta= x @ theta \n",
    "        if iterations>0:\n",
    "            if np.linalg.norm([gradient_theta])<0.001:\n",
    "                break\n",
    "            elif np.absolute(loss_array[iterations]-loss_array[iterations-1])<0.001:\n",
    "                break\n",
    "            elif np.absolute(np.linalg.norm([theta0[iterations],theta1[iterations]])- np.linalg.norm([theta0[iterations-1],theta1[iterations-1]]))<0.001:\n",
    "                break\n",
    "        iterations+=1   \n",
    "    return h_theta,theta,loss_array,epochs,theta0,iterations\n",
    "    "
   ]
  },
  {
   "cell_type": "code",
   "execution_count": 203,
   "metadata": {},
   "outputs": [
    {
     "name": "stdout",
     "output_type": "stream",
     "text": [
      "accuracy= 97.76393462873607 %\n",
      "iterations 23\n"
     ]
    }
   ],
   "source": [
    "theta=np.zeros((len(x[0,:]),1))\n",
    "alpha=0.2\n",
    "epthlon=np.full((len(x[0,:]),1), 1e-8)\n",
    "max_iterations=500\n",
    "batch_size=5\n",
    "h,theta,loss_array,epochs,theta0,iterations=adagrad_MGD(x,y,theta,alpha,epthlon,batch_size,max_iterations)\n",
    "print(\"accuracy=\",r2_score(y,h)*100,\"%\")\n",
    "print(\"iterations\",iterations)"
   ]
  },
  {
   "cell_type": "code",
   "execution_count": 204,
   "metadata": {},
   "outputs": [
    {
     "data": {
      "image/png": "[encoded data removed]",
      "text/plain": [
       "<Figure size 432x288 with 1 Axes>"
      ]
     },
     "metadata": {
      "needs_background": "light"
     },
     "output_type": "display_data"
    }
   ],
   "source": [
    "plt.plot(epochs,loss_array)\n",
    "plt.show()"
   ]
  },
  {
   "cell_type": "code",
   "execution_count": 205,
   "metadata": {},
   "outputs": [
    {
     "data": {
      "image/png": "[encoded data removed]",
      "text/plain": [
       "<Figure size 432x288 with 1 Axes>"
      ]
     },
     "metadata": {
      "needs_background": "light"
     },
     "output_type": "display_data"
    }
   ],
   "source": [
    "plt.plot(theta0,loss_array)\n",
    "plt.show()"
   ]
  },
  {
   "cell_type": "code",
   "execution_count": 206,
   "metadata": {},
   "outputs": [],
   "source": [
    "### RMSprop mini batch \n",
    "def RMSprop_MGD(x,y,theta,alpha,epthlon,beta,batch_size,max_iterations):\n",
    "    length=len(y)\n",
    "    if batch_size>length:\n",
    "        batch_size=length\n",
    "    rest=0\n",
    "    v_RMS=np.zeros((len(x[0,:]),1))\n",
    "    h_theta = x @ theta\n",
    "    loss_array=[]\n",
    "    iterations=0\n",
    "    th=[]\n",
    "    epochs=[]\n",
    "    theta0=[]\n",
    "    theta1=[]\n",
    "    for i in range(max_iterations):\n",
    "        if rest>=batch_size:\n",
    "            u=v\n",
    "            v+=batch_size\n",
    "            m=v-u\n",
    "            rest=length-v\n",
    "        elif rest==0:\n",
    "            u=0\n",
    "            v=batch_size\n",
    "            m=v-u\n",
    "            rest=length-v\n",
    "        elif rest<batch_size:\n",
    "            u=v\n",
    "            v+=rest\n",
    "            m=rest\n",
    "            rest=0\n",
    "        h_theta_new=h_theta[u:v,:]\n",
    "        y_new=y[u:v,:]\n",
    "        x_new=x[u:v,:]\n",
    "        lossfunc=(1/(2*m))*(np.sum(( h_theta_new - y_new)**2))\n",
    "        loss_array.append(lossfunc)\n",
    "        epochs.append(iterations)\n",
    "        th.append(theta)\n",
    "        theta0.append(float((theta[0])))\n",
    "        theta1.append(float((theta[1])))\n",
    "        z=h_theta_new-y_new\n",
    "        gradient_theta=(1/m)*(x_new.T @ z)\n",
    "        v_RMS=beta*v_RMS+(1-beta)*(gradient_theta**2)\n",
    "        theta-=(alpha/(np.sqrt(v_RMS)+epthlon))*gradient_theta\n",
    "        h_theta= x @ theta \n",
    "        if iterations>0:\n",
    "            if np.linalg.norm([gradient_theta])<0.001:\n",
    "                break\n",
    "            elif np.absolute(loss_array[iterations]-loss_array[iterations-1])<0.001:\n",
    "                break\n",
    "            elif np.absolute(np.linalg.norm([theta0[iterations],theta1[iterations]])- np.linalg.norm([theta0[iterations-1],theta1[iterations-1]]))<0.001:\n",
    "                break\n",
    "        iterations+=1   \n",
    "    return h_theta,theta,loss_array,epochs,theta0,iterations\n",
    "    "
   ]
  },
  {
   "cell_type": "code",
   "execution_count": 207,
   "metadata": {},
   "outputs": [
    {
     "name": "stdout",
     "output_type": "stream",
     "text": [
      "accuracy= 97.56978569104099 %\n",
      "iterations 3\n"
     ]
    }
   ],
   "source": [
    "theta=np.zeros((len(x[0,:]),1))\n",
    "alpha=0.2\n",
    "beta=0.9\n",
    "epthlon=np.full((len(x[0,:]),1), 1e-8)\n",
    "max_iterations=10000\n",
    "batch_size=5\n",
    "h,theta,loss_array,epochs,theta0,iterations=RMSprop_MGD(x,y,theta,alpha,epthlon,beta,batch_size,max_iterations)\n",
    "print(\"accuracy=\",r2_score(y,h)*100,\"%\")\n",
    "print(\"iterations\",iterations)"
   ]
  },
  {
   "cell_type": "code",
   "execution_count": 208,
   "metadata": {},
   "outputs": [
    {
     "data": {
      "image/png": "[encoded data removed]",
      "text/plain": [
       "<Figure size 432x288 with 1 Axes>"
      ]
     },
     "metadata": {
      "needs_background": "light"
     },
     "output_type": "display_data"
    }
   ],
   "source": [
    "plt.plot(epochs,loss_array)\n",
    "plt.show()"
   ]
  },
  {
   "cell_type": "code",
   "execution_count": 209,
   "metadata": {},
   "outputs": [
    {
     "data": {
      "image/png": "[encoded data removed]",
      "text/plain": [
       "<Figure size 432x288 with 1 Axes>"
      ]
     },
     "metadata": {
      "needs_background": "light"
     },
     "output_type": "display_data"
    }
   ],
   "source": [
    "plt.plot(theta0,loss_array)\n",
    "plt.show()"
   ]
  },
  {
   "cell_type": "code",
   "execution_count": 210,
   "metadata": {},
   "outputs": [],
   "source": [
    "### ### adam mini batch \n",
    "def adam_MGD(x,y,theta,alpha,epthlon,beta,gama,batch_size,max_iterations):\n",
    "    length=len(y)\n",
    "    if batch_size>length:\n",
    "        batch_size=length\n",
    "    rest=0\n",
    "    v_adam=np.zeros((len(x[0,:]),1))\n",
    "    m_adam=np.zeros((len(x[0,:]),1))\n",
    "    h_theta = x @ theta\n",
    "    loss_array=[]\n",
    "    iterations=0\n",
    "    th=[]\n",
    "    epochs=[]\n",
    "    theta0=[]\n",
    "    theta1=[]\n",
    "    for i in range(max_iterations):\n",
    "        if rest>=batch_size:\n",
    "            u=v\n",
    "            v+=batch_size\n",
    "            m=v-u\n",
    "            rest=length-v\n",
    "        elif rest==0:\n",
    "            u=0\n",
    "            v=batch_size\n",
    "            m=v-u\n",
    "            rest=length-v\n",
    "        elif rest<batch_size:\n",
    "            u=v\n",
    "            v+=rest\n",
    "            m=rest\n",
    "            rest=0\n",
    "        h_theta_new=h_theta[u:v,:]\n",
    "        y_new=y[u:v,:]\n",
    "        x_new=x[u:v,:]\n",
    "        lossfunc=(1/(2*m))*(np.sum(( h_theta_new - y_new)**2))\n",
    "        loss_array.append(lossfunc)\n",
    "        epochs.append(iterations)\n",
    "        th.append(theta)\n",
    "        theta0.append(float((theta[0])))\n",
    "        theta1.append(float((theta[1])))\n",
    "        z=h_theta_new-y_new\n",
    "        gradient_theta=(1/m)*(x_new.T @ z)\n",
    "        v_adam=beta*v_adam+(1-beta)*gradient_theta**2\n",
    "        v_adam=v_adam/(1-(beta**(iterations+1)))\n",
    "        m_adam=gama*m_adam+(1-gama)*gradient_theta\n",
    "        m_adam=m_adam/(1-(gama**(iterations+1)))\n",
    "        theta-=(alpha/(np.sqrt(v_adam)+epthlon))*m_adam\n",
    "        h_theta= x @ theta\n",
    "        if iterations>0:\n",
    "            if np.linalg.norm([gradient_theta])<0.001:\n",
    "                break\n",
    "            elif np.absolute(loss_array[iterations]-loss_array[iterations-1])<0.001:\n",
    "                break\n",
    "            elif np.absolute(np.linalg.norm([theta0[iterations],theta1[iterations]])- np.linalg.norm([theta0[iterations-1],theta1[iterations-1]]))<0.001:\n",
    "                break\n",
    "        iterations+=1   \n",
    "    return h_theta,theta,loss_array,epochs,theta0,iterations\n",
    "    "
   ]
  },
  {
   "cell_type": "code",
   "execution_count": 211,
   "metadata": {},
   "outputs": [
    {
     "name": "stdout",
     "output_type": "stream",
     "text": [
      "accuracy= 97.42048850487636 %\n",
      "iterations 6\n"
     ]
    }
   ],
   "source": [
    "theta=np.zeros((len(x[0,:]),1))\n",
    "alpha=0.5\n",
    "beta=0.95\n",
    "gama=0.5\n",
    "epthlon=np.full((len(x[0,:]),1), 1e-8)\n",
    "max_iterations=1000\n",
    "batch_size=5\n",
    "h,theta,loss_array,epochs,theta0,iterations=adam_MGD(x,y,theta,alpha,epthlon,beta,gama,batch_size,max_iterations)\n",
    "print(\"accuracy=\",r2_score(y,h)*100,\"%\")\n",
    "print(\"iterations\",iterations)"
   ]
  },
  {
   "cell_type": "code",
   "execution_count": 212,
   "metadata": {},
   "outputs": [
    {
     "data": {
      "image/png": "[encoded data removed]",
      "text/plain": [
       "<Figure size 432x288 with 1 Axes>"
      ]
     },
     "metadata": {
      "needs_background": "light"
     },
     "output_type": "display_data"
    }
   ],
   "source": [
    "plt.plot(epochs,loss_array)\n",
    "plt.show()"
   ]
  },
  {
   "cell_type": "code",
   "execution_count": 213,
   "metadata": {},
   "outputs": [
    {
     "data": {
      "image/png": "[encoded data removed]",
      "text/plain": [
       "<Figure size 432x288 with 1 Axes>"
      ]
     },
     "metadata": {
      "needs_background": "light"
     },
     "output_type": "display_data"
    }
   ],
   "source": [
    "plt.plot(theta0,loss_array)\n",
    "plt.show()"
   ]
  },
  {
   "cell_type": "code",
   "execution_count": null,
   "metadata": {},
   "outputs": [],
   "source": []
  }
 ],
 "metadata": {
  "kernelspec": {
   "display_name": "Python 3",
   "language": "python",
   "name": "python3"
  },
  "language_info": {
   "codemirror_mode": {
    "name": "ipython",
    "version": 3
   },
   "file_extension": ".py",
   "mimetype": "text/x-python",
   "name": "python",
   "nbconvert_exporter": "python",
   "pygments_lexer": "ipython3",
   "version": "3.8.5"
  }
 },
 "nbformat": 4,
 "nbformat_minor": 4
}
